{
 "cells": [
  {
   "cell_type": "markdown",
   "id": "19fd751e",
   "metadata": {},
   "source": [
    "### Práctica 1, FRAUDES"
   ]
  },
  {
   "cell_type": "code",
   "execution_count": 63,
   "id": "d23e54f5",
   "metadata": {},
   "outputs": [],
   "source": [
    "import pandas as pd\n",
    "import numpy as np\n",
    "import plotly.express as px\n",
    "from matplotlib import pyplot as plt\n"
   ]
  },
  {
   "cell_type": "code",
   "execution_count": 46,
   "id": "b178f7b6",
   "metadata": {},
   "outputs": [],
   "source": [
    "###  Parametrización\n",
    "ruta = '../data/raw/Original_dataset_payments_fraud.csv'\n"
   ]
  },
  {
   "cell_type": "code",
   "execution_count": 47,
   "id": "6dc2fb59",
   "metadata": {
    "scrolled": true
   },
   "outputs": [],
   "source": [
    "df_fraude = (pd.read_csv(ruta, sep = ';')\n",
    "        .assign(**{'connection_time': lambda df: df['connection_time'].str.replace(',', '.').astype(float)})\n",
    ")\n"
   ]
  },
  {
   "cell_type": "code",
   "execution_count": 48,
   "id": "60a2fdb2",
   "metadata": {},
   "outputs": [
    {
     "name": "stdout",
     "output_type": "stream",
     "text": [
      "['step', 'type', 'amount', 'gender', 'device', 'connection_time', 'nameOrig', 'race', 'oldbalanceOrg', 'age', 'newbalanceOrig', 'zone', 'user_number', 'nameDest', 'user_connections', 'security_alert', 'oldbalanceDest', 'newbalanceDest', 'isFraud']\n"
     ]
    }
   ],
   "source": [
    "# imprimimos el nombre de las columnas\n",
    "print(list(df_fraude.columns))\n"
   ]
  },
  {
   "cell_type": "code",
   "execution_count": 49,
   "id": "8df02549",
   "metadata": {},
   "outputs": [
    {
     "name": "stdout",
     "output_type": "stream",
     "text": [
      " El tamaño del dataset es: (1048575, 19)\n"
     ]
    }
   ],
   "source": [
    "# shape of data\n",
    "print(f' El tamaño del dataset es: {df_fraude.shape}')"
   ]
  },
  {
   "cell_type": "markdown",
   "id": "4c97338f",
   "metadata": {},
   "source": [
    "La variable objetivo es isfraud."
   ]
  },
  {
   "cell_type": "code",
   "execution_count": 50,
   "id": "b98c6640",
   "metadata": {},
   "outputs": [
    {
     "name": "stdout",
     "output_type": "stream",
     "text": [
      "step                     0\n",
      "type                     0\n",
      "amount                   0\n",
      "gender              105118\n",
      "device              104580\n",
      "connection_time          0\n",
      "nameOrig                 0\n",
      "race                105163\n",
      "oldbalanceOrg            0\n",
      "age                      0\n",
      "newbalanceOrig           0\n",
      "zone                104414\n",
      "user_number              0\n",
      "nameDest                 0\n",
      "user_connections         0\n",
      "security_alert           0\n",
      "oldbalanceDest           0\n",
      "newbalanceDest           0\n",
      "isFraud                  0\n",
      "dtype: int64\n"
     ]
    }
   ],
   "source": [
    "print(df_fraude.isnull().sum())"
   ]
  },
  {
   "cell_type": "markdown",
   "id": "5d0ef755",
   "metadata": {},
   "source": [
    "las columnas zone, gender, device y race contienen valores nulos "
   ]
  },
  {
   "cell_type": "code",
   "execution_count": 51,
   "id": "fb0db7ec",
   "metadata": {},
   "outputs": [
    {
     "name": "stdout",
     "output_type": "stream",
     "text": [
      "CASH_OUT    373641\n",
      "PAYMENT     353873\n",
      "CASH_IN     227130\n",
      "TRANSFER     86753\n",
      "DEBIT         7178\n",
      "Name: type, dtype: int64\n"
     ]
    }
   ],
   "source": [
    " #exploring transaction type\n",
    "print(df_fraude['type'].value_counts())\n"
   ]
  },
  {
   "cell_type": "code",
   "execution_count": 65,
   "id": "2385f082",
   "metadata": {},
   "outputs": [
    {
     "data": {
      "text/html": [
       "<div>\n",
       "<style scoped>\n",
       "    .dataframe tbody tr th:only-of-type {\n",
       "        vertical-align: middle;\n",
       "    }\n",
       "\n",
       "    .dataframe tbody tr th {\n",
       "        vertical-align: top;\n",
       "    }\n",
       "\n",
       "    .dataframe thead th {\n",
       "        text-align: right;\n",
       "    }\n",
       "</style>\n",
       "<table border=\"1\" class=\"dataframe\">\n",
       "  <thead>\n",
       "    <tr style=\"text-align: right;\">\n",
       "      <th></th>\n",
       "      <th>isFraud</th>\n",
       "    </tr>\n",
       "    <tr>\n",
       "      <th>type</th>\n",
       "      <th></th>\n",
       "    </tr>\n",
       "  </thead>\n",
       "  <tbody>\n",
       "    <tr>\n",
       "      <th>CASH_IN</th>\n",
       "      <td>0</td>\n",
       "    </tr>\n",
       "    <tr>\n",
       "      <th>CASH_OUT</th>\n",
       "      <td>578</td>\n",
       "    </tr>\n",
       "    <tr>\n",
       "      <th>DEBIT</th>\n",
       "      <td>0</td>\n",
       "    </tr>\n",
       "    <tr>\n",
       "      <th>PAYMENT</th>\n",
       "      <td>0</td>\n",
       "    </tr>\n",
       "    <tr>\n",
       "      <th>TRANSFER</th>\n",
       "      <td>564</td>\n",
       "    </tr>\n",
       "  </tbody>\n",
       "</table>\n",
       "</div>"
      ],
      "text/plain": [
       "          isFraud\n",
       "type             \n",
       "CASH_IN         0\n",
       "CASH_OUT      578\n",
       "DEBIT           0\n",
       "PAYMENT         0\n",
       "TRANSFER      564"
      ]
     },
     "execution_count": 65,
     "metadata": {},
     "output_type": "execute_result"
    }
   ],
   "source": [
    "df_fraude[['type','isFraud']].groupby('type').sum()\n"
   ]
  }
 ],
 "metadata": {
  "kernelspec": {
   "display_name": "Practica0",
   "language": "python",
   "name": "practica0"
  },
  "language_info": {
   "codemirror_mode": {
    "name": "ipython",
    "version": 3
   },
   "file_extension": ".py",
   "mimetype": "text/x-python",
   "name": "python",
   "nbconvert_exporter": "python",
   "pygments_lexer": "ipython3",
   "version": "3.9.13"
  }
 },
 "nbformat": 4,
 "nbformat_minor": 5
}
